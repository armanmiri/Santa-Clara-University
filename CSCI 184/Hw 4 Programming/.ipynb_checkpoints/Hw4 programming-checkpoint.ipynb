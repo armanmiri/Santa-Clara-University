{
 "cells": [
  {
   "cell_type": "markdown",
   "id": "ee56048f-a84c-4a93-b806-05e25d596976",
   "metadata": {},
   "source": [
    "Arman Miri, CSCI 184, 07700006039"
   ]
  },
  {
   "cell_type": "code",
   "execution_count": 2,
   "id": "1a6b42f0-1804-438a-910d-f03c60b0cec9",
   "metadata": {},
   "outputs": [
    {
     "ename": "ModuleNotFoundError",
     "evalue": "No module named 'tensorflow.keras'",
     "output_type": "error",
     "traceback": [
      "\u001b[0;31m---------------------------------------------------------------------------\u001b[0m",
      "\u001b[0;31mModuleNotFoundError\u001b[0m                       Traceback (most recent call last)",
      "Cell \u001b[0;32mIn[2], line 2\u001b[0m\n\u001b[1;32m      1\u001b[0m \u001b[38;5;28;01mimport\u001b[39;00m \u001b[38;5;21;01mtensorflow\u001b[39;00m \u001b[38;5;28;01mas\u001b[39;00m \u001b[38;5;21;01mtf\u001b[39;00m\n\u001b[0;32m----> 2\u001b[0m \u001b[38;5;28;01mfrom\u001b[39;00m \u001b[38;5;21;01mtensorflow\u001b[39;00m\u001b[38;5;21;01m.\u001b[39;00m\u001b[38;5;21;01mkeras\u001b[39;00m\u001b[38;5;21;01m.\u001b[39;00m\u001b[38;5;21;01mmodels\u001b[39;00m \u001b[38;5;28;01mimport\u001b[39;00m Sequential\n\u001b[1;32m      3\u001b[0m \u001b[38;5;28;01mfrom\u001b[39;00m \u001b[38;5;21;01mtensorflow\u001b[39;00m\u001b[38;5;21;01m.\u001b[39;00m\u001b[38;5;21;01mkeras\u001b[39;00m\u001b[38;5;21;01m.\u001b[39;00m\u001b[38;5;21;01mlayers\u001b[39;00m \u001b[38;5;28;01mimport\u001b[39;00m Dense\n\u001b[1;32m      4\u001b[0m \u001b[38;5;28;01mimport\u001b[39;00m \u001b[38;5;21;01mpandas\u001b[39;00m \u001b[38;5;28;01mas\u001b[39;00m \u001b[38;5;21;01mpd\u001b[39;00m\n",
      "\u001b[0;31mModuleNotFoundError\u001b[0m: No module named 'tensorflow.keras'"
     ]
    }
   ],
   "source": [
    "import tensorflow as tf\n",
    "from tensorflow.keras.models import Sequential\n",
    "from tensorflow.keras.layers import Dense\n",
    "import pandas as pd\n",
    "from sklearn.preprocessing import StandardScaler\n",
    "\n",
    "def get_test_accuracies_keras(number):\n",
    "    # Load training and test data\n",
    "    df_train = pd.read_csv(f\"./monks_data/monks-{number}.train\", header=None)\n",
    "    df_test = pd.read_csv(f\"./monks_data/monks-{number}.test\", header=None)\n",
    "\n",
    "    # Separate features and labels\n",
    "    X_train = df_train.iloc[:, 1:].values\n",
    "    y_train = df_train.iloc[:, 0].values\n",
    "    X_test = df_test.iloc[:, 1:].values\n",
    "    y_test = df_test.iloc[:, 0].values\n",
    "\n",
    "    # Normalize the features\n",
    "    scaler = StandardScaler()\n",
    "    X_train = scaler.fit_transform(X_train)\n",
    "    X_test = scaler.transform(X_test)\n",
    "\n",
    "    # Define the neural network\n",
    "    model_sgd = Sequential([\n",
    "        Dense(8, activation='tanh', input_shape=(6,)),  # Layer 1\n",
    "        Dense(6, activation='relu'),                   # Layer 2\n",
    "        Dense(1, activation='sigmoid')                 # Output Layer\n",
    "    ])\n",
    "    model_adam = tf.keras.models.clone_model(model_sgd)  # Copy the architecture\n",
    "\n",
    "    # Compile models\n",
    "    model_sgd.compile(optimizer=tf.keras.optimizers.SGD(learning_rate=0.01), \n",
    "                      loss='binary_crossentropy', metrics=['accuracy'])\n",
    "    model_adam.compile(optimizer=tf.keras.optimizers.Adam(learning_rate=0.01), \n",
    "                       loss='binary_crossentropy', metrics=['accuracy'])\n",
    "\n",
    "    # Train models\n",
    "    history_sgd = model_sgd.fit(X_train, y_train, validation_data=(X_test, y_test), \n",
    "                                epochs=50, batch_size=32, verbose=0)\n",
    "    history_adam = model_adam.fit(X_train, y_train, validation_data=(X_test, y_test), \n",
    "                                  epochs=50, batch_size=32, verbose=0)\n",
    "\n",
    "    # Get test accuracies for all epochs\n",
    "    test_accuracy_sgd = history_sgd.history['val_accuracy']\n",
    "    test_accuracy_adam = history_adam.history['val_accuracy']\n",
    "\n",
    "    return test_accuracy_sgd, test_accuracy_adam\n"
   ]
  },
  {
   "cell_type": "code",
   "execution_count": 1,
   "id": "5a5af312-76d4-466a-ae04-3d9b1306d4bf",
   "metadata": {},
   "outputs": [
    {
     "ename": "ModuleNotFoundError",
     "evalue": "No module named 'matplotlib'",
     "output_type": "error",
     "traceback": [
      "\u001b[0;31m---------------------------------------------------------------------------\u001b[0m",
      "\u001b[0;31mModuleNotFoundError\u001b[0m                       Traceback (most recent call last)",
      "Cell \u001b[0;32mIn[1], line 2\u001b[0m\n\u001b[1;32m      1\u001b[0m \u001b[38;5;66;03m# Updated function to highlight specific epochs mentioned in the PDF\u001b[39;00m\n\u001b[0;32m----> 2\u001b[0m \u001b[38;5;28;01mimport\u001b[39;00m \u001b[38;5;21;01mmatplotlib\u001b[39;00m\u001b[38;5;21;01m.\u001b[39;00m\u001b[38;5;21;01mpyplot\u001b[39;00m \u001b[38;5;28;01mas\u001b[39;00m \u001b[38;5;21;01mplt\u001b[39;00m\n\u001b[1;32m      3\u001b[0m \u001b[38;5;28;01mimport\u001b[39;00m \u001b[38;5;21;01mnumpy\u001b[39;00m \u001b[38;5;28;01mas\u001b[39;00m \u001b[38;5;21;01mnp\u001b[39;00m\n\u001b[1;32m      5\u001b[0m \u001b[38;5;28;01mdef\u001b[39;00m \u001b[38;5;21mplot_test_accuracies\u001b[39m(number, test_accuracy_sgd, test_accuracy_adam):\n",
      "\u001b[0;31mModuleNotFoundError\u001b[0m: No module named 'matplotlib'"
     ]
    }
   ],
   "source": [
    "# Updated function to highlight specific epochs mentioned in the PDF\n",
    "import matplotlib.pyplot as plt\n",
    "import numpy as np\n",
    "\n",
    "def plot_test_accuracies(number, test_accuracy_sgd, test_accuracy_adam):\n",
    "    plt.figure(figsize=(10, 6))\n",
    "    epochs = np.arange(1, 51)  # Epoch range\n",
    "\n",
    "    # Highlighted epochs from the PDF\n",
    "    highlighted_epochs = [5, 10, 15, 20, 25, 30, 35, 40, 45, 50]\n",
    "\n",
    "    # Plot SGD accuracies\n",
    "    plt.plot(epochs, test_accuracy_sgd, label='SGD', linestyle='-', markersize=6)\n",
    "    plt.scatter(\n",
    "        highlighted_epochs, \n",
    "        [test_accuracy_sgd[epoch - 1] for epoch in highlighted_epochs], \n",
    "        color='blue', \n",
    "        label='SGD Highlighted', \n",
    "        zorder=5\n",
    "    )\n",
    "\n",
    "    # Plot Adam accuracies\n",
    "    plt.plot(epochs, test_accuracy_adam, label='Adam', linestyle='-', markersize=6)\n",
    "    plt.scatter(\n",
    "        highlighted_epochs, \n",
    "        [test_accuracy_adam[epoch - 1] for epoch in highlighted_epochs], \n",
    "        color='orange', \n",
    "        label='Adam Highlighted', \n",
    "        zorder=5\n",
    "    )\n",
    "    \n",
    "    # Add labels, title, and legend\n",
    "    plt.xlabel('Epoch')\n",
    "    plt.ylabel('Test Accuracy')\n",
    "    plt.title(f'Test Accuracy for Monks Problem {number}')\n",
    "    plt.legend()\n",
    "    plt.grid(True)\n",
    "\n",
    "# Mock-up data for demonstration (replace these with actual results from your function)\n",
    "mock_sgd_accuracies = np.linspace(0.5, 0.8, 50)  # Increasing trend for SGD\n",
    "mock_adam_accuracies = np.linspace(0.6, 0.9, 50)  # Increasing trend for Adam\n",
    "\n",
    "# Plot for each problem (1, 2, 3)\n",
    "for i in range(3):\n",
    "    number = i + 1\n",
    "    plot_test_accuracies(number=number, test_accuracy_sgd=mock_sgd_accuracies, test_accuracy_adam=mock_adam_accuracies)\n",
    "\n",
    "# Show the plot\n",
    "plt.show()\n"
   ]
  },
  {
   "cell_type": "code",
   "execution_count": null,
   "id": "235182e3-031b-4e61-9692-cfab23c52f90",
   "metadata": {},
   "outputs": [],
   "source": []
  },
  {
   "cell_type": "code",
   "execution_count": null,
   "id": "418eae6d-c187-4d4d-8ddb-9489ce51cafe",
   "metadata": {},
   "outputs": [],
   "source": []
  }
 ],
 "metadata": {
  "kernelspec": {
   "display_name": "Python 3 (ipykernel)",
   "language": "python",
   "name": "python3"
  },
  "language_info": {
   "codemirror_mode": {
    "name": "ipython",
    "version": 3
   },
   "file_extension": ".py",
   "mimetype": "text/x-python",
   "name": "python",
   "nbconvert_exporter": "python",
   "pygments_lexer": "ipython3",
   "version": "3.12.2"
  }
 },
 "nbformat": 4,
 "nbformat_minor": 5
}
