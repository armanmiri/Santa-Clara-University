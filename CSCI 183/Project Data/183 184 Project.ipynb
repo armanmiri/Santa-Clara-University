{
 "cells": [
  {
   "cell_type": "code",
   "execution_count": 4,
   "id": "0b4437c5-fa88-449c-b6c6-f257ca76965a",
   "metadata": {},
   "outputs": [
    {
     "name": "stdout",
     "output_type": "stream",
     "text": [
      "Dataset loaded successfully!\n",
      "                                              review sentiment\n",
      "0  One of the other reviewers has mentioned that ...  positive\n",
      "1  A wonderful little production. <br /><br />The...  positive\n",
      "2  I thought this was a wonderful way to spend ti...  positive\n",
      "3  Basically there's a family where a little boy ...  negative\n",
      "4  Petter Mattei's \"Love in the Time of Money\" is...  positive\n"
     ]
    }
   ],
   "source": [
    "import os\n",
    "import pandas as pd\n",
    "\n",
    "file_name = 'IMDB Dataset.csv'\n",
    "\n",
    "if os.path.exists(file_name):\n",
    "    data = pd.read_csv(file_name)\n",
    "    \n",
    "    print(\"Dataset loaded successfully!\")\n",
    "    \n",
    "    print(data.head())  # Display the first few rows\n",
    "\n",
    "else:\n",
    "    print(f\"Error: {file_name} not found in the current directory.\")\n"
   ]
  },
  {
   "cell_type": "code",
   "execution_count": 6,
   "id": "d26e4b45-d5da-4685-b9cf-fab0cf2bc8d4",
   "metadata": {},
   "outputs": [
    {
     "data": {
      "text/plain": [
       "((40000, 20000), (10000, 20000))"
      ]
     },
     "execution_count": 6,
     "metadata": {},
     "output_type": "execute_result"
    }
   ],
   "source": [
    "from sklearn.model_selection import train_test_split\n",
    "from sklearn.feature_extraction.text import TfidfVectorizer\n",
    "from sklearn.preprocessing import LabelEncoder\n",
    "\n",
    "# Step 1: Encode sentiment labels\n",
    "label_encoder = LabelEncoder()\n",
    "data['sentiment_encoded'] = label_encoder.fit_transform(data['sentiment'])\n",
    "\n",
    "# Step 2: Split the data into training and testing sets\n",
    "X = data['review']\n",
    "y = data['sentiment_encoded']\n",
    "X_train, X_test, y_train, y_test = train_test_split(X, y, test_size=0.2, random_state=42, stratify=y)\n",
    "\n",
    "# Step 3: Text vectorization using TF-IDF\n",
    "tfidf_vectorizer = TfidfVectorizer(max_features=20000, stop_words='english')\n",
    "X_train_tfidf = tfidf_vectorizer.fit_transform(X_train)\n",
    "X_test_tfidf = tfidf_vectorizer.transform(X_test)\n",
    "\n",
    "# Output dimensions of the training and testing data\n",
    "X_train_tfidf.shape, X_test_tfidf.shape\n"
   ]
  },
  {
   "cell_type": "code",
   "execution_count": 8,
   "id": "e8ee0687-a996-4b5c-bae1-ab496aa5d184",
   "metadata": {},
   "outputs": [
    {
     "data": {
      "text/plain": [
       "(0.5182,\n",
       " '              precision    recall  f1-score   support\\n\\n    negative       0.52      0.40      0.45      5000\\n    positive       0.51      0.64      0.57      5000\\n\\n    accuracy                           0.52     10000\\n   macro avg       0.52      0.52      0.51     10000\\nweighted avg       0.52      0.52      0.51     10000\\n')"
      ]
     },
     "execution_count": 8,
     "metadata": {},
     "output_type": "execute_result"
    }
   ],
   "source": [
    "from sklearn.cluster import KMeans\n",
    "from sklearn.metrics import accuracy_score, classification_report\n",
    "from scipy.stats import mode\n",
    "import numpy as np\n",
    "\n",
    "# Step 4: K-means Clustering\n",
    "# Train a K-means model with 2 clusters (as we have 2 classes: positive, negative)\n",
    "kmeans = KMeans(n_clusters=2, random_state=42)\n",
    "kmeans.fit(X_train_tfidf)\n",
    "\n",
    "# Predict cluster labels for the test data\n",
    "kmeans_labels = kmeans.predict(X_test_tfidf)\n",
    "\n",
    "# Map cluster labels to original sentiment labels using mode\n",
    "# Since k-means assigns arbitrary cluster numbers, we align them to the actual sentiments\n",
    "kmeans_mapped_labels = np.zeros_like(kmeans_labels)\n",
    "for i in range(2):  # 2 clusters\n",
    "    mask = (kmeans.labels_ == i)\n",
    "    kmeans_mapped_labels[kmeans_labels == i] = mode(y_train[mask])[0]\n",
    "\n",
    "# Evaluate the K-means model\n",
    "kmeans_accuracy = accuracy_score(y_test, kmeans_mapped_labels)\n",
    "kmeans_report = classification_report(y_test, kmeans_mapped_labels, target_names=label_encoder.classes_)\n",
    "\n",
    "kmeans_accuracy, kmeans_report\n"
   ]
  },
  {
   "cell_type": "code",
   "execution_count": 10,
   "id": "86608a48-1d3d-42d5-9334-dfc5dc55be9e",
   "metadata": {},
   "outputs": [
    {
     "data": {
      "text/plain": [
       "(0.8942,\n",
       " '              precision    recall  f1-score   support\\n\\n    negative       0.90      0.89      0.89      5000\\n    positive       0.89      0.90      0.89      5000\\n\\n    accuracy                           0.89     10000\\n   macro avg       0.89      0.89      0.89     10000\\nweighted avg       0.89      0.89      0.89     10000\\n')"
      ]
     },
     "execution_count": 10,
     "metadata": {},
     "output_type": "execute_result"
    }
   ],
   "source": [
    "from sklearn.svm import LinearSVC\n",
    "\n",
    "# Step 5: Support Vector Machine (SVM)\n",
    "# Train a linear SVM model on the training data\n",
    "svm = LinearSVC(random_state=42)\n",
    "svm.fit(X_train_tfidf, y_train)\n",
    "\n",
    "# Predict on the test data\n",
    "svm_predictions = svm.predict(X_test_tfidf)\n",
    "\n",
    "# Evaluate the SVM model\n",
    "svm_accuracy = accuracy_score(y_test, svm_predictions)\n",
    "svm_report = classification_report(y_test, svm_predictions, target_names=label_encoder.classes_)\n",
    "\n",
    "svm_accuracy, svm_report\n"
   ]
  },
  {
   "cell_type": "code",
   "execution_count": null,
   "id": "1624fc08-5e6f-4e98-8f8d-873b973ee7ce",
   "metadata": {},
   "outputs": [],
   "source": [
    "from sklearn.neural_network import MLPClassifier\n",
    "from sklearn.metrics import accuracy_score, classification_report\n",
    "\n",
    "# Step 6: Neural Network Alternative (MLP)\n",
    "# Train an MLPClassifier on the TF-IDF features\n",
    "mlp = MLPClassifier(hidden_layer_sizes=(64, 32), activation='relu', solver='adam', random_state=42, max_iter=75)\n",
    "\n",
    "# Train the model\n",
    "mlp.fit(X_train_tfidf, y_train)\n",
    "\n",
    "# Predict on the test data\n",
    "mlp_predictions = mlp.predict(X_test_tfidf)\n",
    "\n",
    "# Evaluate the MLP model\n",
    "mlp_accuracy = accuracy_score(y_test, mlp_predictions)\n",
    "mlp_report = classification_report(y_test, mlp_predictions, target_names=label_encoder.classes_)\n",
    "\n",
    "print(\"MLP Accuracy:\", mlp_accuracy)\n",
    "print(\"\\nClassification Report:\\n\", mlp_report)\n"
   ]
  },
  {
   "cell_type": "code",
   "execution_count": null,
   "id": "f5ba2d3f-2ec1-4ad4-a4f6-f27d22d4dbd4",
   "metadata": {},
   "outputs": [],
   "source": []
  }
 ],
 "metadata": {
  "kernelspec": {
   "display_name": "Python 3 (ipykernel)",
   "language": "python",
   "name": "python3"
  },
  "language_info": {
   "codemirror_mode": {
    "name": "ipython",
    "version": 3
   },
   "file_extension": ".py",
   "mimetype": "text/x-python",
   "name": "python",
   "nbconvert_exporter": "python",
   "pygments_lexer": "ipython3",
   "version": "3.12.7"
  }
 },
 "nbformat": 4,
 "nbformat_minor": 5
}
